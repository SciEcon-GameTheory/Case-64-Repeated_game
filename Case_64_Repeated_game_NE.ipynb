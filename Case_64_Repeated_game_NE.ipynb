{
  "nbformat": 4,
  "nbformat_minor": 2,
  "metadata": {
    "colab": {
      "name": "Case-64-Repeated game-NE.ipynb",
      "provenance": [],
      "collapsed_sections": []
    },
    "kernelspec": {
      "name": "python3",
      "display_name": "Python 3"
    },
    "language_info": {
      "name": "python"
    }
  },
  "cells": [
    {
      "cell_type": "markdown",
      "source": [
        "<font size = 6> 64 - Incentivizing Blockchain Miners to Avoid Dishonest\n",
        "Mining Strategies By a Reputation-Based Paradigm </font>"
      ],
      "metadata": {
        "id": "iN68PntWkTcJ"
      }
    },
    {
      "cell_type": "markdown",
      "source": [
        "<font face = Times size=4>\n",
        "\n",
        "***Backgrounds:***\n",
        "\n",
        "The mining process in the Blockchain is very resource intensive, therefore, miners form coalitions to verify each block of transactions in return for a reward where only the first coalition that accomplishes the proof-of-work will be rewarded. This leads to intense competitions among miners and consequently dishonest mining strategies, such as block withholding attack, selfish mining, eclipse attack and stubborn mining, to name a few. **As a result, it is necessary to regulate the mining process to make miners accountable for any dishonest mining behavior.**\n",
        "\n",
        "</font>"
      ],
      "metadata": {
        "id": "gmdZPczOleVK"
      }
    },
    {
      "cell_type": "markdown",
      "source": [
        "<font face = Times size=4>\n",
        "\n",
        "***Research Question:***\n",
        "\n",
        "Based on the backgrounds, the authors propose a new reputation-based\n",
        "framework for the proof-of-work computation in the Blockchain in which miners not only are incentivized to conduct honest mining but also disincentivized to commit to any malicious activities against other mining pools.\n",
        "\n",
        "</font>"
      ],
      "metadata": {
        "id": "4c6nnzr3d6H9"
      }
    },
    {
      "cell_type": "markdown",
      "source": [
        "<font face = Times size=4>\n",
        "\n",
        "***Reputation-based Mining Model and Setting:***\n",
        "\n",
        "As illustrated in Figure 1, our model consists of a set of pool managers $M_{\\left(i, p_{i}\\right)}$ who form coalitions for the proofof-work computations, for $1 \\leq i \\leq I$, where $0 \\leq p_{i}$ denote profits that pool managers have so far accumulated; a set of miners/ally miners $m_{\\left(j k, r_{k}\\right)}$ who perform proof-of-works, for $1 \\leq j \\leq J$ and $1 \\leq k \\leq K$, where $-1 \\leq r_{k} \\leq+1$ denote the reputation value of a miner/ally miners. In our model, miners/ally minors may commit to malicious activities through direct attacks (e.g., DDoS attack) or collusion attacks (e.g., block withholding) to disrupt the proof-of-work computations of certain mining pools. As such, two actions are considered in the miners' action profile, that is, commit to malicious activity to disrupt computations of mining pools, denoted by $\\mathscr{D}:$ dishonest mining, or conduct the proof-of-work honestly, denoted by $\\mathscr{H}:$ honest mining.\n",
        "\n",
        "Note that, in the current setting of digital currencies, each miner is defined by a unique identity $j$. However, in our proposed framework, each miner is also assigned a public reputation value $r_{k}$, where $k$ is the index of this value. In fact, the reputation value reflects how well the miner has so far performed in the system in terms of mining performance as well as honest or malicious activities (i.e., a history of behavior). This public reputation value $r_{k}$ is updated after a specific period of time based on different criteria, e.g., the ratio of full proof-of-work over partial proof-of-work, detection of any malicious activity such as collusion with other miners, selfish-mining, or contribution to a distributed denial-of-service attack. Moreover, each pool manager $i$ is also assigned a parameter $p_{i}$ that defines the profit that he has so far accumulated through his pool. As $p_{i}$ reflects how well a manager is performing, it can be interpreted as his reputation.\n",
        "\n",
        "In our setting, a subset of miners who highly trust each other (due to partnerships, personal relationships, common nationality, or even geographical proximity) can form an alliance, named ally miners, and request a single reputation value $r_{k}$ even though they each have a separate identity $j$. This means, while members of a coalition can build reputation all together through $r_{k}$ by collaborations overtime, they are all responsible for malicious activities triggered even by a single member of their coalition.\n",
        "\n",
        "This leads to the notion of neighborhood-watch meaning that each member of an alliance is incentivised to monitor his allies. For instance, members can agree to execute a randomized algorithm to monitor each other through various methods, that is, cybersecurity detection techniques or transparency policies to make sure no one has ever received any bribe from other mining pools due to any sort of collusion attacks. As a result, the pool manager doesn't need to have any concern for every single member of his mining pool. Furthermore, if a member decides to launch an attack, he may need to convince all his coalition members or act solo, which might be caught by his allies through randomized monitoring before it can even affect the mining procedure.\n",
        "\n",
        "Once in a while, the pool managers rearrange their groups to form new coalitions for the proof-of-work. They send invitations (i.e., an invitation-based approach) to miners/ally miners based on a non-uniform probability distribution that is defined by the reputation values $r_{k} .$ In other words, the miners/ally miners who are more reputable have a higher chance to be invited to the mining pools and those who are not trustworthy have a lower chance to receive invitations. The miners/ally miners can also chose to whom they would like to join if they receive multiple invitations, that is, a mutual meritbased setting for both miners and managers.\n",
        "\n",
        "</font>"
      ],
      "metadata": {
        "id": "FzrD4fsyi6Zs"
      }
    },
    {
      "cell_type": "markdown",
      "source": [
        "<div align=\"center\">\n",
        "<a href=\"https://sm.ms/image/287zc4ferKGlgWD\" target=\"_blank\"><img src=\"https://i.loli.net/2021/07/25/287zc4ferKGlgWD.png\" ></a>\n",
        "</div>\n",
        "\n",
        "<font face = Times size = 3>\n",
        "    <center> Fig1: Architecture of Our Reputation-Based Setting. </center>\n",
        "    </font>\n"
      ],
      "metadata": {
        "id": "R5hmNDqtkAEh"
      }
    },
    {
      "cell_type": "markdown",
      "source": [
        "<font face = Times size=4>\n",
        "\n",
        "***Mining in the Reputation-Based Model:***\n",
        "\n",
        "The mining game is repeatedly played for an unknown number of rounds. Each miner $m_{\\left(j k, r_{k}\\right)}$ has a public reputation value $r_{k}$, where the initial value is zero, and it is bounded as follows: $-1 \\leq r_{k} \\leq+1 .$ In addition, each miner's action $\\alpha_{j} \\in\\{\\mathscr{H}, \\mathscr{D}, \\perp\\}$, where $\\mathscr{H}$ and $\\mathscr{D}$ denote honest mining and dishonest mining respectively, and $\\perp$ indicates miner $m_{\\left(j k, r_{k}\\right)}$ has not been selected by any pool manager $M_{\\left(i, p_{i}\\right)}$ in the current round. Finally, each miner calculates two utility functions to select his action, that is, a long-term utility function $u_{j}$ and an actual utility function $u_{j}^{\\prime} .$ Note that each round of the game consists of a sequence of block verification, for instance, after verifying a constant number of blocks or after a certain amount of time.\n",
        "\n",
        "1) Suppose we have a non-uniform probability distribution over types of miners, i.e., honest, dishonest and new miners. Each pool manager $M_{\\left(i, p_{i}\\right)}$ sends invitations to a subset of miners based on this probability distribution in each round of the game.\n",
        "\n",
        "2) Each miner $m_{\\left(j k, r_{k}\\right)}$ computes his long-term utility $u_{j}$, and then selects a new action from the action profile, i.e., employ honest or dishonest mining strategies.\n",
        "\n",
        "3) Each $m_{\\left(j k, r_{k}\\right)}$ receives his short-term utility $u_{j}^{\\prime}$, i.e., the actual reward that each miner gains, at the end of each round of the game based on the proof-of-works' outcomes.\n",
        "\n",
        "4) The reputation values $r_{k}$ of the selected miners/ally miners are publicly updated based on each miner's/alliance's behavior using a reputation system.\n",
        "\n",
        "</font>"
      ],
      "metadata": {
        "id": "EmFku22dk01j"
      }
    },
    {
      "cell_type": "markdown",
      "source": [
        "<font face = Times size=4>\n",
        "\n",
        "***The Long-Term and Short-Term Utility Function:***\n",
        "\n",
        "Let $\\varphi_{j}$ be the reward factor that is determined by each pool manager $M_{\\left(i, p_{i}\\right)}$ based on $r_{k}$ of each miner $m_{\\left(j k, r_{k}\\right)}$, and let $\\delta_{j}(\\vec{a})=r_{k}^{\\vec{a}}(p)-r_{k}^{\\vec{a}}(p-1)$ be the difference of two consecutive\n",
        "reputation values. Note that $\\tau_{j}=\\left|\\delta_{j}(\\vec{a})\\right| / \\delta_{j}(\\vec{a})$ is positive if the selected action in period $p$ is $\\mathscr{H}:$ honest mining, and it is negative, if it is $\\mathscr{D}:$ dishonest mining. Also, let $\\Omega>0$ be a unit of utility, for instance, $\\mathrm{B} 50$. To satisfy the miners' preferences, we compute the long-term utility $u_{j}(\\vec{a})$ through the following linear combination:\n",
        "$$\n",
        "u_{j}(\\vec{a})=\\Omega\\left(\\tau_{j} \\varphi_{j}+d_{j}(\\vec{a})+\\frac{d_{j}(\\vec{a})}{\\Delta(\\vec{a})+1}\\right)\n",
        "$$\n",
        "Note that the actual utility $u_{j}^{\\prime}(\\vec{a})$ only consists of the second and third terms, that is, $u_{j}^{\\prime}(\\vec{a})=\\Omega\\left(d_{j}(\\vec{a})+d_{j}(\\vec{a}) /(\\Delta(\\vec{a})+1)\\right)$.\n",
        "The first term of the utility function denotes miner $m_{\\left(j k, r_{k}\\right)}$ gains or loses $\\varphi_{i}$ units of utility in the future games due to his behavior as reflected in $r_{k} .$ This is due to $\\tau_{j}$ that depends on the miner's reputation value $r_{k} .$ The second term illustrates miner $m_{\\left(j k, r_{k}\\right)}$ gains one unit of utility if he employs dishonest mining strategies or colludes with the attacker in the current game, and he loses this opportunity otherwise. Finally, the last term results in almost one unit of utility to be shared among all dishonest miners.\n",
        "\n",
        "</font>"
      ],
      "metadata": {
        "id": "VWHTGflNoRs7"
      }
    },
    {
      "cell_type": "markdown",
      "source": [
        "<font face = Times size=4>\n",
        "\n",
        "***Reference:***\n",
        "\n",
        "M. Nojoumian, A. Golchubian, L. Njilla, K. Kwiat, and C. Kamhoua,\n",
        "“Incentivizing blockchain miners to avoid dishonest mining strategies\n",
        "by a reputation-based paradigm,” in IEEE Computing Conference (CC).\n",
        "London, UK: IEEE, 2018.\n",
        "\n",
        "</font>"
      ],
      "metadata": {
        "id": "8WOkcaYIWkeC"
      }
    }
  ]
}